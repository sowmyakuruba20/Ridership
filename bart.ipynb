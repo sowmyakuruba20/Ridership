{
 "cells": [
  {
   "cell_type": "code",
   "execution_count": null,
   "id": "ed530372",
   "metadata": {
    "vscode": {
     "languageId": "plaintext"
    }
   },
   "outputs": [],
   "source": [
    "# Import py2neo to work with Neo4j Graph Database"
   ]
  },
  {
   "cell_type": "code",
   "execution_count": 64,
   "id": "01d14ba8",
   "metadata": {},
   "outputs": [],
   "source": [
    "import pandas as pd\n",
    "from py2neo import Graph, Node, Relationship\n",
    "from graphdatascience import GraphDataScience"
   ]
  },
  {
   "cell_type": "markdown",
   "id": "b49b10ac",
   "metadata": {},
   "source": [
    "# Import Dataset and Data cleaning "
   ]
  },
  {
   "cell_type": "code",
   "execution_count": 65,
   "id": "d56c24eb",
   "metadata": {},
   "outputs": [],
   "source": [
    "fare_df = pd.read_csv('fare_rider_categories_bart.csv')\n",
    "time_df = pd.read_csv('bart_time.csv')"
   ]
  },
  {
   "cell_type": "code",
   "execution_count": 66,
   "id": "4ac19126",
   "metadata": {},
   "outputs": [
    {
     "data": {
      "text/html": [
       "<div>\n",
       "<style scoped>\n",
       "    .dataframe tbody tr th:only-of-type {\n",
       "        vertical-align: middle;\n",
       "    }\n",
       "\n",
       "    .dataframe tbody tr th {\n",
       "        vertical-align: top;\n",
       "    }\n",
       "\n",
       "    .dataframe thead th {\n",
       "        text-align: right;\n",
       "    }\n",
       "</style>\n",
       "<table border=\"1\" class=\"dataframe\">\n",
       "  <thead>\n",
       "    <tr style=\"text-align: right;\">\n",
       "      <th></th>\n",
       "      <th>fare_id</th>\n",
       "      <th>rider_category_id</th>\n",
       "      <th>price</th>\n",
       "      <th>origin_id</th>\n",
       "      <th>destination_id</th>\n",
       "      <th>origin</th>\n",
       "      <th>destination</th>\n",
       "      <th>origin_station</th>\n",
       "      <th>destination_station</th>\n",
       "      <th>rider_category_name</th>\n",
       "    </tr>\n",
       "  </thead>\n",
       "  <tbody>\n",
       "    <tr>\n",
       "      <th>0</th>\n",
       "      <td>1</td>\n",
       "      <td>5</td>\n",
       "      <td>1.80</td>\n",
       "      <td>0</td>\n",
       "      <td>1</td>\n",
       "      <td>SSAN</td>\n",
       "      <td>SBRN</td>\n",
       "      <td>South San Francisco</td>\n",
       "      <td>San Bruno</td>\n",
       "      <td>Youth Clipper</td>\n",
       "    </tr>\n",
       "    <tr>\n",
       "      <th>1</th>\n",
       "      <td>2</td>\n",
       "      <td>5</td>\n",
       "      <td>3.20</td>\n",
       "      <td>0</td>\n",
       "      <td>0</td>\n",
       "      <td>SSAN</td>\n",
       "      <td>SSAN</td>\n",
       "      <td>South San Francisco</td>\n",
       "      <td>South San Francisco</td>\n",
       "      <td>Youth Clipper</td>\n",
       "    </tr>\n",
       "    <tr>\n",
       "      <th>2</th>\n",
       "      <td>3</td>\n",
       "      <td>5</td>\n",
       "      <td>4.25</td>\n",
       "      <td>0</td>\n",
       "      <td>2</td>\n",
       "      <td>SSAN</td>\n",
       "      <td>SFIA</td>\n",
       "      <td>South San Francisco</td>\n",
       "      <td>San Francisco International Airport</td>\n",
       "      <td>Youth Clipper</td>\n",
       "    </tr>\n",
       "    <tr>\n",
       "      <th>3</th>\n",
       "      <td>4</td>\n",
       "      <td>5</td>\n",
       "      <td>1.80</td>\n",
       "      <td>0</td>\n",
       "      <td>3</td>\n",
       "      <td>SSAN</td>\n",
       "      <td>MLBR</td>\n",
       "      <td>South San Francisco</td>\n",
       "      <td>Millbrae</td>\n",
       "      <td>Youth Clipper</td>\n",
       "    </tr>\n",
       "    <tr>\n",
       "      <th>4</th>\n",
       "      <td>5</td>\n",
       "      <td>5</td>\n",
       "      <td>3.65</td>\n",
       "      <td>0</td>\n",
       "      <td>4</td>\n",
       "      <td>SSAN</td>\n",
       "      <td>WDUB</td>\n",
       "      <td>South San Francisco</td>\n",
       "      <td>West Dublin/Pleasanton</td>\n",
       "      <td>Youth Clipper</td>\n",
       "    </tr>\n",
       "    <tr>\n",
       "      <th>...</th>\n",
       "      <td>...</td>\n",
       "      <td>...</td>\n",
       "      <td>...</td>\n",
       "      <td>...</td>\n",
       "      <td>...</td>\n",
       "      <td>...</td>\n",
       "      <td>...</td>\n",
       "      <td>...</td>\n",
       "      <td>...</td>\n",
       "      <td>...</td>\n",
       "    </tr>\n",
       "    <tr>\n",
       "      <th>9995</th>\n",
       "      <td>2496</td>\n",
       "      <td>1</td>\n",
       "      <td>9.20</td>\n",
       "      <td>49</td>\n",
       "      <td>45</td>\n",
       "      <td>ANTC</td>\n",
       "      <td>WARM</td>\n",
       "      <td>Antioch</td>\n",
       "      <td>Warm Springs/South Fremont</td>\n",
       "      <td>Clipper</td>\n",
       "    </tr>\n",
       "    <tr>\n",
       "      <th>9996</th>\n",
       "      <td>2497</td>\n",
       "      <td>1</td>\n",
       "      <td>10.00</td>\n",
       "      <td>49</td>\n",
       "      <td>46</td>\n",
       "      <td>ANTC</td>\n",
       "      <td>MLPT</td>\n",
       "      <td>Antioch</td>\n",
       "      <td>Milpitas</td>\n",
       "      <td>Clipper</td>\n",
       "    </tr>\n",
       "    <tr>\n",
       "      <th>9997</th>\n",
       "      <td>2498</td>\n",
       "      <td>1</td>\n",
       "      <td>10.30</td>\n",
       "      <td>49</td>\n",
       "      <td>47</td>\n",
       "      <td>ANTC</td>\n",
       "      <td>BERY</td>\n",
       "      <td>Antioch</td>\n",
       "      <td>Berryessa/North San Jose</td>\n",
       "      <td>Clipper</td>\n",
       "    </tr>\n",
       "    <tr>\n",
       "      <th>9998</th>\n",
       "      <td>2499</td>\n",
       "      <td>1</td>\n",
       "      <td>2.15</td>\n",
       "      <td>49</td>\n",
       "      <td>48</td>\n",
       "      <td>ANTC</td>\n",
       "      <td>PCTR</td>\n",
       "      <td>Antioch</td>\n",
       "      <td>Pittsburg Center</td>\n",
       "      <td>Clipper</td>\n",
       "    </tr>\n",
       "    <tr>\n",
       "      <th>9999</th>\n",
       "      <td>2500</td>\n",
       "      <td>1</td>\n",
       "      <td>6.40</td>\n",
       "      <td>49</td>\n",
       "      <td>49</td>\n",
       "      <td>ANTC</td>\n",
       "      <td>ANTC</td>\n",
       "      <td>Antioch</td>\n",
       "      <td>Antioch</td>\n",
       "      <td>Clipper</td>\n",
       "    </tr>\n",
       "  </tbody>\n",
       "</table>\n",
       "<p>10000 rows × 10 columns</p>\n",
       "</div>"
      ],
      "text/plain": [
       "      fare_id  rider_category_id  price  origin_id  destination_id origin  \\\n",
       "0           1                  5   1.80          0               1   SSAN   \n",
       "1           2                  5   3.20          0               0   SSAN   \n",
       "2           3                  5   4.25          0               2   SSAN   \n",
       "3           4                  5   1.80          0               3   SSAN   \n",
       "4           5                  5   3.65          0               4   SSAN   \n",
       "...       ...                ...    ...        ...             ...    ...   \n",
       "9995     2496                  1   9.20         49              45   ANTC   \n",
       "9996     2497                  1  10.00         49              46   ANTC   \n",
       "9997     2498                  1  10.30         49              47   ANTC   \n",
       "9998     2499                  1   2.15         49              48   ANTC   \n",
       "9999     2500                  1   6.40         49              49   ANTC   \n",
       "\n",
       "     destination       origin_station                  destination_station  \\\n",
       "0           SBRN  South San Francisco                            San Bruno   \n",
       "1           SSAN  South San Francisco                  South San Francisco   \n",
       "2           SFIA  South San Francisco  San Francisco International Airport   \n",
       "3           MLBR  South San Francisco                             Millbrae   \n",
       "4           WDUB  South San Francisco               West Dublin/Pleasanton   \n",
       "...          ...                  ...                                  ...   \n",
       "9995        WARM              Antioch           Warm Springs/South Fremont   \n",
       "9996        MLPT              Antioch                             Milpitas   \n",
       "9997        BERY              Antioch             Berryessa/North San Jose   \n",
       "9998        PCTR              Antioch                     Pittsburg Center   \n",
       "9999        ANTC              Antioch                              Antioch   \n",
       "\n",
       "     rider_category_name  \n",
       "0          Youth Clipper  \n",
       "1          Youth Clipper  \n",
       "2          Youth Clipper  \n",
       "3          Youth Clipper  \n",
       "4          Youth Clipper  \n",
       "...                  ...  \n",
       "9995            Clipper   \n",
       "9996            Clipper   \n",
       "9997            Clipper   \n",
       "9998            Clipper   \n",
       "9999            Clipper   \n",
       "\n",
       "[10000 rows x 10 columns]"
      ]
     },
     "execution_count": 66,
     "metadata": {},
     "output_type": "execute_result"
    }
   ],
   "source": [
    "fare_df"
   ]
  },
  {
   "cell_type": "code",
   "execution_count": 67,
   "id": "cd2c0465",
   "metadata": {},
   "outputs": [],
   "source": [
    "time_df = time_df.drop_duplicates()\n",
    "time_df.to_csv(\"bart_time.csv\", index=False)"
   ]
  },
  {
   "cell_type": "code",
   "execution_count": 68,
   "id": "41135a01",
   "metadata": {},
   "outputs": [
    {
     "data": {
      "text/html": [
       "<div>\n",
       "<style scoped>\n",
       "    .dataframe tbody tr th:only-of-type {\n",
       "        vertical-align: middle;\n",
       "    }\n",
       "\n",
       "    .dataframe tbody tr th {\n",
       "        vertical-align: top;\n",
       "    }\n",
       "\n",
       "    .dataframe thead th {\n",
       "        text-align: right;\n",
       "    }\n",
       "</style>\n",
       "<table border=\"1\" class=\"dataframe\">\n",
       "  <thead>\n",
       "    <tr style=\"text-align: right;\">\n",
       "      <th></th>\n",
       "      <th>origin_id</th>\n",
       "      <th>destination_id</th>\n",
       "      <th>time</th>\n",
       "    </tr>\n",
       "  </thead>\n",
       "  <tbody>\n",
       "    <tr>\n",
       "      <th>0</th>\n",
       "      <td>13</td>\n",
       "      <td>12</td>\n",
       "      <td>2</td>\n",
       "    </tr>\n",
       "    <tr>\n",
       "      <th>1</th>\n",
       "      <td>13</td>\n",
       "      <td>14</td>\n",
       "      <td>3</td>\n",
       "    </tr>\n",
       "    <tr>\n",
       "      <th>2</th>\n",
       "      <td>39</td>\n",
       "      <td>38</td>\n",
       "      <td>2</td>\n",
       "    </tr>\n",
       "    <tr>\n",
       "      <th>3</th>\n",
       "      <td>12</td>\n",
       "      <td>11</td>\n",
       "      <td>4</td>\n",
       "    </tr>\n",
       "    <tr>\n",
       "      <th>4</th>\n",
       "      <td>12</td>\n",
       "      <td>13</td>\n",
       "      <td>2</td>\n",
       "    </tr>\n",
       "  </tbody>\n",
       "</table>\n",
       "</div>"
      ],
      "text/plain": [
       "   origin_id  destination_id  time\n",
       "0         13              12     2\n",
       "1         13              14     3\n",
       "2         39              38     2\n",
       "3         12              11     4\n",
       "4         12              13     2"
      ]
     },
     "execution_count": 68,
     "metadata": {},
     "output_type": "execute_result"
    }
   ],
   "source": [
    "time_df.head()"
   ]
  },
  {
   "cell_type": "markdown",
   "id": "a05edc81",
   "metadata": {},
   "source": [
    "# Connect to Neo4j Database"
   ]
  },
  {
   "cell_type": "code",
   "execution_count": 69,
   "id": "d34d657e",
   "metadata": {},
   "outputs": [
    {
     "name": "stdout",
     "output_type": "stream",
     "text": [
      "Conection established with Neo4j\n"
     ]
    }
   ],
   "source": [
    "graph_name = \"neo4j\" \n",
    "SERVER_ADDRESS = \"bolt://localhost:7687\"\n",
    "SERVER_AUTH = (\"neo4j\", \"root@420\")\n",
    "graph = Graph(SERVER_ADDRESS, auth=SERVER_AUTH)\n",
    "print(\"Conection established with Neo4j\")"
   ]
  },
  {
   "cell_type": "markdown",
   "id": "39c4ac5c",
   "metadata": {},
   "source": [
    "# Create the graph with stations as nodes and fare as relationship between stations "
   ]
  },
  {
   "cell_type": "code",
   "execution_count": 70,
   "id": "79d01639",
   "metadata": {},
   "outputs": [],
   "source": [
    "def create_stations_fares(fare_df, graph):\n",
    "    for index, row in fare_df.iterrows():\n",
    "        origin_id = row['origin_id']\n",
    "        origin_node = graph.nodes.match(\"Station\", station_id=origin_id).first()\n",
    "        if origin_node:\n",
    "            origin = origin_node\n",
    "        else:\n",
    "            origin = Node(\"Station\", station_id=origin_id, station_name=row['origin_station'])\n",
    "\n",
    "        destination_id = row['destination_id']\n",
    "        destination_node = graph.nodes.match(\"Station\", station_id=destination_id).first()\n",
    "        if destination_node:\n",
    "            destination = destination_node\n",
    "        else:\n",
    "            destination = Node(\"Station\", station_id=destination_id, station_name=row['destination_station'])\n",
    "\n",
    "        # check if a fare relationship already exists between the source and destination nodes\n",
    "        query = f\"MATCH (o:Station {{station_id: '{origin_id}'}})-[f:fare]-(:Station {{station_id: '{destination_id}'}}) RETURN f\"\n",
    "        result = graph.run(query).data()\n",
    "        if result:\n",
    "            existing_fare = result[0]['f']\n",
    "\n",
    "            if row['rider_category_id'] == 5:\n",
    "                existing_fare['youth_fare'] = row['price']\n",
    "            elif row['rider_category_id'] == 2:\n",
    "                existing_fare['senior_fare'] = row['price']\n",
    "            elif row['rider_category_id'] == 16:\n",
    "                existing_fare['clipper_start_fare'] = row['price']\n",
    "            elif row['rider_category_id'] == 1:\n",
    "                existing_fare['clipper_fare'] = row['price']\n",
    "\n",
    "            graph.push(existing_fare)\n",
    "        else:\n",
    "            fare = Relationship(origin, \"fare\", destination,\n",
    "                                youth_fare=row['price'] if row['rider_category_id'] == 5 else None,\n",
    "                                senior_fare=row['price'] if row['rider_category_id'] == 2 else None,\n",
    "                                clipper_start_fare=row['price'] if row['rider_category_id'] == 16 else None,\n",
    "                                clipper_fare=row['price'] if row['rider_category_id'] == 1 else None)\n",
    "\n",
    "        # create same relationship from destination to source\n",
    "        query = f\"MATCH (o:Station {{station_id: '{destination_id}'}})-[f:fare]-(:Station {{station_id: '{origin_id}'}}) RETURN f\"\n",
    "        result = graph.run(query).data()\n",
    "        if result:\n",
    "            existing_fare = result[0]['f']\n",
    "\n",
    "            if row['rider_category_id'] == 5:\n",
    "                existing_fare['youth_fare'] = row['price']\n",
    "            elif row['rider_category_id'] == 2:\n",
    "                existing_fare['senior_fare'] = row['price']\n",
    "            elif row['rider_category_id'] == 16:\n",
    "                existing_fare['clipper_start_fare'] = row['price']\n",
    "            elif row['rider_category_id'] == 1:\n",
    "                existing_fare['clipper_fare'] = row['price']\n",
    "\n",
    "            graph.push(existing_fare)\n",
    "        else:\n",
    "            graph.create(fare)\n",
    "            fare = Relationship(destination, \"fare\", origin,\n",
    "                                youth_fare=row['price'] if row['rider_category_id'] == 5 else None,\n",
    "                                senior_fare=row['price'] if row['rider_category_id'] == 2 else None,\n",
    "                                clipper_start_fare=row['price'] if row['rider_category_id'] == 16 else None,\n",
    "                                clipper_fare=row['price'] if row['rider_category_id'] == 1 else None)        \n",
    "            graph.create(fare)\n",
    "\n",
    "    print(\"Station Nodes and Fare relationships created successfully\")\n"
   ]
  },
  {
   "cell_type": "markdown",
   "id": "1601ab6c",
   "metadata": {},
   "source": [
    "# Create travel_time relationship between stations"
   ]
  },
  {
   "cell_type": "code",
   "execution_count": 71,
   "id": "2c8720f4",
   "metadata": {},
   "outputs": [],
   "source": [
    "def create_stations_time(time_df, graph):\n",
    "    for index, row in time_df.iterrows():\n",
    "        origin_id = int(row['origin_id'])  # Convert to Python int\n",
    "        origin = graph.nodes.match(\"Station\", station_id=origin_id).first()\n",
    "\n",
    "        destination_id = int(row['destination_id'])  # Convert to Python int\n",
    "        destination = graph.nodes.match(\"Station\", station_id=destination_id).first()\n",
    "\n",
    "        # create time relationship from source to destination\n",
    "        time = Relationship(origin, \"travel_time\", destination, time=int(row['time']))\n",
    "        graph.create(time)\n",
    "\n",
    "        # create the same relationship from destination to source\n",
    "        time = Relationship(destination, \"travel_time\", origin, time=int(row['time']))\n",
    "        graph.create(time)\n",
    "\n",
    "    print(\"Time relationships created successfully\")\n"
   ]
  },
  {
   "cell_type": "markdown",
   "id": "8994d977",
   "metadata": {},
   "source": [
    "# Create Nodes and Realationships "
   ]
  },
  {
   "cell_type": "code",
   "execution_count": 72,
   "id": "0942c1b5",
   "metadata": {},
   "outputs": [
    {
     "name": "stdout",
     "output_type": "stream",
     "text": [
      "Station Nodes and Fare relationships created successfully\n"
     ]
    }
   ],
   "source": [
    "create_stations_fares(fare_df, graph)"
   ]
  },
  {
   "cell_type": "code",
   "execution_count": 73,
   "id": "ef7d3cba",
   "metadata": {},
   "outputs": [
    {
     "name": "stdout",
     "output_type": "stream",
     "text": [
      "Time relationships created successfully\n"
     ]
    }
   ],
   "source": [
    "create_stations_time(time_df, graph)"
   ]
  }
 ],
 "metadata": {
  "kernelspec": {
   "display_name": "Python 3 (ipykernel)",
   "language": "python",
   "name": "python3"
  },
  "language_info": {
   "codemirror_mode": {
    "name": "ipython",
    "version": 3
   },
   "file_extension": ".py",
   "mimetype": "text/x-python",
   "name": "python",
   "nbconvert_exporter": "python",
   "pygments_lexer": "ipython3",
   "version": "3.10.9"
  }
 },
 "nbformat": 4,
 "nbformat_minor": 5
}
